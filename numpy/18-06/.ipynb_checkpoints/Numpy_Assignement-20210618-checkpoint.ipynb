{
 "cells": [
  {
   "cell_type": "markdown",
   "metadata": {},
   "source": [
    "NumPy : Practice Problems \n"
   ]
  },
  {
   "cell_type": "markdown",
   "metadata": {},
   "source": [
    "1. Create a null vector of size 10 but the fifth value which is 1."
   ]
  },
  {
   "cell_type": "code",
   "execution_count": 1,
   "metadata": {},
   "outputs": [
    {
     "data": {
      "text/plain": [
       "array([0., 0., 0., 0., 1., 0., 0., 0., 0., 0.])"
      ]
     },
     "execution_count": 1,
     "metadata": {},
     "output_type": "execute_result"
    }
   ],
   "source": [
    "import numpy as np\n",
    "\n",
    "a = np.zeros(10)\n",
    "a[4] = 1\n",
    "a"
   ]
  },
  {
   "cell_type": "markdown",
   "metadata": {},
   "source": [
    "2. Create a vector with values ranging from 10 to 49."
   ]
  },
  {
   "cell_type": "code",
   "execution_count": 2,
   "metadata": {},
   "outputs": [
    {
     "data": {
      "text/plain": [
       "array([10, 11, 12, 13, 14, 15, 16, 17, 18, 19, 20, 21, 22, 23, 24, 25, 26,\n",
       "       27, 28, 29, 30, 31, 32, 33, 34, 35, 36, 37, 38, 39, 40, 41, 42, 43,\n",
       "       44, 45, 46, 47, 48, 49])"
      ]
     },
     "execution_count": 2,
     "metadata": {},
     "output_type": "execute_result"
    }
   ],
   "source": [
    "a = np.arange(10,50)\n",
    "a"
   ]
  },
  {
   "cell_type": "markdown",
   "metadata": {},
   "source": [
    "3. create two arrays and stack them vertically"
   ]
  },
  {
   "cell_type": "code",
   "execution_count": 3,
   "metadata": {},
   "outputs": [
    {
     "data": {
      "text/plain": [
       "array([[1, 1],\n",
       "       [6, 5],\n",
       "       [5, 1],\n",
       "       [6, 2]])"
      ]
     },
     "execution_count": 3,
     "metadata": {},
     "output_type": "execute_result"
    }
   ],
   "source": [
    "a = np.array([[1,1],\n",
    "             [6,5]])\n",
    "\n",
    "b = np.array([[5,1],\n",
    "             [6,2]])\n",
    "\n",
    "np.vstack((a,b))"
   ]
  },
  {
   "cell_type": "markdown",
   "metadata": {},
   "source": [
    "4. Create a 1d numpy array with values ranging from 0 to 8 and extract 5th element."
   ]
  },
  {
   "cell_type": "code",
   "execution_count": 4,
   "metadata": {},
   "outputs": [
    {
     "name": "stdout",
     "output_type": "stream",
     "text": [
      "4\n"
     ]
    }
   ],
   "source": [
    "a = np.arange(8)\n",
    "print(a[4])"
   ]
  },
  {
   "cell_type": "markdown",
   "metadata": {},
   "source": [
    "5. Create a 3x3 matrix with values ranging from 0 to 8"
   ]
  },
  {
   "cell_type": "code",
   "execution_count": 5,
   "metadata": {},
   "outputs": [],
   "source": [
    "#ValueError: cannot reshape array of size 8 into shape (3,3)"
   ]
  },
  {
   "cell_type": "markdown",
   "metadata": {},
   "source": [
    "6. Filter non-zero elements from numpy array [1,2,0,0,4,0]"
   ]
  },
  {
   "cell_type": "code",
   "execution_count": 6,
   "metadata": {},
   "outputs": [
    {
     "name": "stdout",
     "output_type": "stream",
     "text": [
      "[1 2 4]\n"
     ]
    }
   ],
   "source": [
    "b =np.array([1,2,0,0,4,0])\n",
    "print(b[b>0])"
   ]
  },
  {
   "cell_type": "markdown",
   "metadata": {},
   "source": [
    "7. Create a 10x10 array with random values and find the minimum and maximum values."
   ]
  },
  {
   "cell_type": "code",
   "execution_count": 7,
   "metadata": {},
   "outputs": [
    {
     "data": {
      "text/plain": [
       "array([[9.00433729e-01, 5.48488329e-01, 2.79815808e-01, 3.93236370e-01,\n",
       "        1.98702256e-01, 1.79320176e-01, 5.07421418e-01, 6.01904318e-01,\n",
       "        9.73605706e-01, 4.72671649e-01],\n",
       "       [9.61518600e-01, 8.11757379e-01, 9.97938738e-01, 2.78974437e-01,\n",
       "        6.51735375e-01, 1.19852378e-01, 2.96921465e-04, 2.17551512e-01,\n",
       "        7.73495280e-01, 4.40323610e-01],\n",
       "       [1.19679208e-01, 9.72804773e-01, 2.32344810e-01, 9.57209608e-02,\n",
       "        5.47489157e-01, 1.99374565e-01, 7.97991058e-01, 3.22455344e-01,\n",
       "        9.00605339e-01, 1.84330928e-01],\n",
       "       [5.46105576e-01, 1.76390230e-01, 8.23649166e-01, 6.17994078e-01,\n",
       "        2.76250140e-02, 9.35211709e-01, 5.92557731e-01, 2.44988018e-01,\n",
       "        3.69372725e-01, 6.01467555e-02],\n",
       "       [3.23988310e-01, 6.39773124e-01, 8.48126359e-01, 3.91518797e-01,\n",
       "        5.52956004e-01, 5.50791497e-01, 6.07583750e-01, 3.48406174e-01,\n",
       "        4.53567897e-01, 7.62949011e-01],\n",
       "       [9.67228050e-01, 8.29648734e-01, 9.26371539e-01, 1.64458999e-02,\n",
       "        4.09918578e-01, 5.74218540e-01, 5.96023973e-01, 6.18792763e-01,\n",
       "        5.63088509e-01, 7.56999139e-01],\n",
       "       [8.31420795e-02, 4.98198475e-02, 3.02096095e-01, 3.66790940e-01,\n",
       "        2.05741516e-01, 1.20734541e-01, 3.30914297e-01, 1.17806732e-01,\n",
       "        9.95470625e-01, 7.33719227e-01],\n",
       "       [1.79475061e-01, 9.19956090e-01, 5.87087606e-01, 2.01545862e-01,\n",
       "        5.93013227e-02, 7.48899603e-01, 2.27284929e-01, 8.44720845e-01,\n",
       "        2.85356080e-01, 1.12031714e-01],\n",
       "       [9.81890025e-01, 2.64598396e-01, 7.48672540e-01, 1.44559310e-01,\n",
       "        4.07724253e-01, 2.49048112e-01, 1.00009462e-01, 4.39876952e-01,\n",
       "        7.76951028e-01, 3.61257291e-01],\n",
       "       [7.11438600e-01, 4.32311501e-01, 2.58031385e-01, 6.08106011e-01,\n",
       "        6.09006218e-01, 5.40204976e-01, 5.82045469e-01, 9.49601211e-01,\n",
       "        9.76464623e-01, 7.36285559e-01]])"
      ]
     },
     "execution_count": 7,
     "metadata": {},
     "output_type": "execute_result"
    }
   ],
   "source": [
    "#https://drive.google.com/file/d/10zAV4DBzQkXu2oE4r0pVCU0X8aj5Uw_t/view?usp=sharing\n",
    "x = np.random.random((10,10))\n",
    "x "
   ]
  },
  {
   "cell_type": "code",
   "execution_count": 8,
   "metadata": {},
   "outputs": [
    {
     "data": {
      "text/plain": [
       "0.997938738276446"
      ]
     },
     "execution_count": 8,
     "metadata": {},
     "output_type": "execute_result"
    }
   ],
   "source": [
    "x.max()"
   ]
  },
  {
   "cell_type": "code",
   "execution_count": 9,
   "metadata": {},
   "outputs": [
    {
     "data": {
      "text/plain": [
       "0.00029692146466031577"
      ]
     },
     "execution_count": 9,
     "metadata": {},
     "output_type": "execute_result"
    }
   ],
   "source": [
    "x.min()"
   ]
  },
  {
   "cell_type": "markdown",
   "metadata": {},
   "source": [
    "8. Create a random vector of size 30 and find the mean value."
   ]
  },
  {
   "cell_type": "code",
   "execution_count": 10,
   "metadata": {},
   "outputs": [
    {
     "name": "stdout",
     "output_type": "stream",
     "text": [
      "0.47110922985069037\n"
     ]
    }
   ],
   "source": [
    "x = np.random.random(30)\n",
    "print(x.mean())\n"
   ]
  },
  {
   "cell_type": "markdown",
   "metadata": {},
   "source": [
    "9. Create a 1d array of size 10 and reshape it into 2d of shape(2,5)."
   ]
  },
  {
   "cell_type": "code",
   "execution_count": 11,
   "metadata": {},
   "outputs": [
    {
     "data": {
      "text/plain": [
       "array([[10,  5,  6,  6,  3],\n",
       "       [ 4,  8,  2,  8, 24]])"
      ]
     },
     "execution_count": 11,
     "metadata": {},
     "output_type": "execute_result"
    }
   ],
   "source": [
    "x = np.array([10,5,6,6,3,4,8,2,8,24,]).reshape(2,5)\n",
    "x"
   ]
  },
  {
   "cell_type": "markdown",
   "metadata": {},
   "source": [
    "10. Create a 3*3 matrix and print it's transpose matrix"
   ]
  },
  {
   "cell_type": "code",
   "execution_count": 12,
   "metadata": {},
   "outputs": [
    {
     "data": {
      "text/plain": [
       "array([[0.01037415, 0.50187459, 0.49577329],\n",
       "       [0.13382953, 0.14211109, 0.21855868],\n",
       "       [0.41850818, 0.24810117, 0.08405965]])"
      ]
     },
     "execution_count": 12,
     "metadata": {},
     "output_type": "execute_result"
    }
   ],
   "source": [
    "np.random.seed(9)\n",
    "a = np.random.random(9).reshape(3,3)\n",
    "a"
   ]
  },
  {
   "cell_type": "code",
   "execution_count": 13,
   "metadata": {},
   "outputs": [
    {
     "data": {
      "text/plain": [
       "array([[0.01037415, 0.13382953, 0.41850818],\n",
       "       [0.50187459, 0.14211109, 0.24810117],\n",
       "       [0.49577329, 0.21855868, 0.08405965]])"
      ]
     },
     "execution_count": 13,
     "metadata": {},
     "output_type": "execute_result"
    }
   ],
   "source": [
    "a.T #Transpose Matrix"
   ]
  },
  {
   "cell_type": "markdown",
   "metadata": {},
   "source": [
    "11. Create an array of 3*3 and find  max of columns."
   ]
  },
  {
   "cell_type": "code",
   "execution_count": 14,
   "metadata": {},
   "outputs": [
    {
     "data": {
      "text/plain": [
       "array([[1, 2, 3],\n",
       "       [9, 6, 4],\n",
       "       [9, 5, 4]])"
      ]
     },
     "execution_count": 14,
     "metadata": {},
     "output_type": "execute_result"
    }
   ],
   "source": [
    "a = np.array([[1,2,3],\n",
    "             [9,6,4],\n",
    "             [9,5,4]])\n",
    "a"
   ]
  },
  {
   "cell_type": "code",
   "execution_count": 15,
   "metadata": {},
   "outputs": [
    {
     "name": "stdout",
     "output_type": "stream",
     "text": [
      "[9 6 4]\n"
     ]
    }
   ],
   "source": [
    "#https://drive.google.com/file/d/16ffk2bwVvXHz1qkOWcWJ_17x9vNFVoEU/view?usp=sharing\n",
    "\n",
    "print(a.max(axis =0))  #for columns\n"
   ]
  },
  {
   "cell_type": "code",
   "execution_count": 16,
   "metadata": {},
   "outputs": [
    {
     "name": "stdout",
     "output_type": "stream",
     "text": [
      "[3 9 9]\n"
     ]
    }
   ],
   "source": [
    "print(a.max(axis =1)) #for rows"
   ]
  },
  {
   "cell_type": "markdown",
   "metadata": {},
   "source": [
    "12. Create two arrays of 2-D and find dot product of it."
   ]
  },
  {
   "cell_type": "code",
   "execution_count": 17,
   "metadata": {},
   "outputs": [
    {
     "data": {
      "text/plain": [
       "array([[107,  25],\n",
       "       [323,  93]])"
      ]
     },
     "execution_count": 17,
     "metadata": {},
     "output_type": "execute_result"
    }
   ],
   "source": [
    "a = np.array([[1,2],[5,6]])\n",
    "b = np.array([[1,9],[53,8]])\n",
    "\n",
    "np.dot(a,b)"
   ]
  },
  {
   "cell_type": "markdown",
   "metadata": {},
   "source": [
    "13. Using given two array try to print out 3rd given array.\n",
    "a = np.array(['a', 'b', 'c'], dtype=object) b = np.array([1,2,3])\n",
    "\n",
    "output = ['a', 'bb', 'ccc']"
   ]
  },
  {
   "cell_type": "code",
   "execution_count": 18,
   "metadata": {},
   "outputs": [
    {
     "data": {
      "text/plain": [
       "['a', 'bb', 'ccc']"
      ]
     },
     "execution_count": 18,
     "metadata": {},
     "output_type": "execute_result"
    }
   ],
   "source": [
    "a = np.array(['a', 'b', 'c'], dtype=object)\n",
    "b = np.array([1,2,3])\n",
    "c = np.outer(a,b)\n",
    "s = [c[0][0],c[1][1],c[2][2]]\n",
    "s"
   ]
  },
  {
   "cell_type": "code",
   "execution_count": null,
   "metadata": {},
   "outputs": [],
   "source": []
  },
  {
   "cell_type": "markdown",
   "metadata": {},
   "source": [
    "14. How to find common values between two arrays"
   ]
  },
  {
   "cell_type": "code",
   "execution_count": 19,
   "metadata": {},
   "outputs": [
    {
     "data": {
      "text/plain": [
       "array([ 9, 12, 42, 55])"
      ]
     },
     "execution_count": 19,
     "metadata": {},
     "output_type": "execute_result"
    }
   ],
   "source": [
    "a1 = np.array([1,12,2,9,55,42,5,5,2])\n",
    "a2 = np.array([14,12,29,9,55,42,95,28])\n",
    "c = np.intersect1d(a1,a2)\n",
    "c"
   ]
  },
  {
   "cell_type": "markdown",
   "metadata": {},
   "source": [
    "15. Find cube of a mtrix."
   ]
  },
  {
   "cell_type": "code",
   "execution_count": 29,
   "metadata": {},
   "outputs": [
    {
     "data": {
      "text/plain": [
       "array([[  1,   8,  27,  64],\n",
       "       [125, 216, 343,   8],\n",
       "       [  8,   8, 125,   8]], dtype=int32)"
      ]
     },
     "execution_count": 29,
     "metadata": {},
     "output_type": "execute_result"
    }
   ],
   "source": [
    "a1 = np.array([[1,2,3,4], [5,6,7,2],[2,2,5,2]])\n",
    "c = pow(a1,3) \n",
    "c"
   ]
  },
  {
   "cell_type": "code",
   "execution_count": null,
   "metadata": {},
   "outputs": [],
   "source": []
  }
 ],
 "metadata": {
  "kernelspec": {
   "display_name": "Python 3",
   "language": "python",
   "name": "python3"
  },
  "language_info": {
   "codemirror_mode": {
    "name": "ipython",
    "version": 3
   },
   "file_extension": ".py",
   "mimetype": "text/x-python",
   "name": "python",
   "nbconvert_exporter": "python",
   "pygments_lexer": "ipython3",
   "version": "3.7.4"
  }
 },
 "nbformat": 4,
 "nbformat_minor": 4
}
