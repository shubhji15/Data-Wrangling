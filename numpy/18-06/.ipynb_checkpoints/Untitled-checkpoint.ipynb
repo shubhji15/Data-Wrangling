{
 "cells": [
  {
   "cell_type": "code",
   "execution_count": 3,
   "id": "concrete-johnston",
   "metadata": {},
   "outputs": [],
   "source": [
    "import numpy as np"
   ]
  },
  {
   "cell_type": "code",
   "execution_count": 5,
   "id": "junior-indian",
   "metadata": {},
   "outputs": [],
   "source": [
    "matrix = np.array([[7,8,9],\n",
    "                 [5,2,6],\n",
    "                 [8,5,6]])"
   ]
  },
  {
   "cell_type": "code",
   "execution_count": 6,
   "id": "dependent-lawyer",
   "metadata": {},
   "outputs": [
    {
     "data": {
      "text/plain": [
       "98.99999999999999"
      ]
     },
     "execution_count": 6,
     "metadata": {},
     "output_type": "execute_result"
    }
   ],
   "source": [
    "np.linalg.det(matrix)"
   ]
  },
  {
   "cell_type": "code",
   "execution_count": 7,
   "id": "charitable-intake",
   "metadata": {},
   "outputs": [
    {
     "data": {
      "text/plain": [
       "array([[7, 5, 8],\n",
       "       [8, 2, 5],\n",
       "       [9, 6, 6]])"
      ]
     },
     "execution_count": 7,
     "metadata": {},
     "output_type": "execute_result"
    }
   ],
   "source": [
    "matrix.T  #transpose matrix"
   ]
  },
  {
   "cell_type": "code",
   "execution_count": 9,
   "id": "baking-hartford",
   "metadata": {},
   "outputs": [],
   "source": [
    "m_a = np.array([[1,2],\n",
    "                [2,1]])\n",
    "\n",
    "m_b = np.array([[2,1],\n",
    "               [1,2]])"
   ]
  },
  {
   "cell_type": "code",
   "execution_count": 10,
   "id": "casual-google",
   "metadata": {},
   "outputs": [
    {
     "data": {
      "text/plain": [
       "array([[4, 5],\n",
       "       [5, 4]])"
      ]
     },
     "execution_count": 10,
     "metadata": {},
     "output_type": "execute_result"
    }
   ],
   "source": [
    "np.dot(m_a,m_b)"
   ]
  },
  {
   "cell_type": "code",
   "execution_count": 12,
   "id": "executed-suspect",
   "metadata": {},
   "outputs": [],
   "source": [
    "m = np.array([[2,3],\n",
    "             [2,4]])"
   ]
  },
  {
   "cell_type": "code",
   "execution_count": 13,
   "id": "compressed-division",
   "metadata": {},
   "outputs": [
    {
     "data": {
      "text/plain": [
       "array([[ 2. , -1.5],\n",
       "       [-1. ,  1. ]])"
      ]
     },
     "execution_count": 13,
     "metadata": {},
     "output_type": "execute_result"
    }
   ],
   "source": [
    "np.linalg.inv(m)"
   ]
  },
  {
   "cell_type": "code",
   "execution_count": null,
   "id": "worth-pittsburgh",
   "metadata": {},
   "outputs": [],
   "source": []
  }
 ],
 "metadata": {
  "kernelspec": {
   "display_name": "Python 3",
   "language": "python",
   "name": "python3"
  },
  "language_info": {
   "codemirror_mode": {
    "name": "ipython",
    "version": 3
   },
   "file_extension": ".py",
   "mimetype": "text/x-python",
   "name": "python",
   "nbconvert_exporter": "python",
   "pygments_lexer": "ipython3",
   "version": "3.7.4"
  }
 },
 "nbformat": 4,
 "nbformat_minor": 5
}
